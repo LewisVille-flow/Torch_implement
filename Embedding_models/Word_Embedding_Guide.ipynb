{
 "cells": [
  {
   "cell_type": "code",
   "execution_count": 1,
   "metadata": {},
   "outputs": [],
   "source": [
    "import torch"
   ]
  },
  {
   "cell_type": "code",
   "execution_count": null,
   "metadata": {},
   "outputs": [],
   "source": [
    "\"\"\"\n",
    "전체적인 순서. 헷갈리지 않도록 정리하자.\n",
    "\n",
    "워드 임베딩: 단어를 벡터 공간상에 매핑하고, similarity가 높은 단어들 끼리 가까이 있도록 학습.\n",
    "필요한 것:\n",
    "    - 토크나이저 만들기\n",
    "    - 단어장(vocabulary) 생성\n",
    "    - toke2id, id2token\n",
    "    - UNK 토큰 발행 필요\n",
    "\n",
    "\n",
    "비주얼라이징: 모델 내 nn.embedding Layer 를 가지고 -> 그다음?\n",
    "\n",
    "\n",
    "\"\"\""
   ]
  },
  {
   "cell_type": "code",
   "execution_count": null,
   "metadata": {},
   "outputs": [],
   "source": [
    "\"\"\"\n",
    "CBOW\n",
    "\n",
    "1. build vocabulary\n",
    "    tokenizer setting\n",
    "    token2id\n",
    "    id2token\n",
    "\n",
    "2. dataset and dataloader: x, y data setting\n",
    "    data -> tokenized -> token to id\n",
    "    \n",
    "    dataset: init, len, getitem. -> x and y\n",
    "        x: window*2 without context word\n",
    "        y: context vector\n",
    "        \n",
    "    dataloader: collate_fn. -> batchify\n",
    "\n",
    "3. model implementation\n",
    "    x: (w*2, emb), y: (1, emb)\n",
    "    embedding - sum(axis=1) - linear\n",
    "\n",
    "4. training\n",
    "    criterion() = CrossEntropyLoss\n",
    "    \n",
    "5. (optional - visualization)\n",
    "\n",
    "\"\"\""
   ]
  },
  {
   "attachments": {},
   "cell_type": "markdown",
   "metadata": {},
   "source": [
    "# 1. CBOW\n",
    "\n",
    "### 확인해야 할 것\n",
    "1. NLP 파이토치 템플릿\n",
    "- Dataset을 호출할 때 데이터는 token된 상태로 들어가는가, raw 한 상태로 들어가는가?\n",
    "일단 구현은 내부에서 토크나이징 하는 것으로 세팅.\n",
    "2. nn.Embedding의 sparse 옵션, max_norm 옵션\n",
    "3. Trainer 템플릿 확인하기"
   ]
  },
  {
   "cell_type": "code",
   "execution_count": null,
   "metadata": {},
   "outputs": [],
   "source": [
    "VOCABULARY\n",
    "CBOWDATASET\n",
    "MODEL\n",
    "TRAIN"
   ]
  },
  {
   "cell_type": "code",
   "execution_count": null,
   "metadata": {},
   "outputs": [],
   "source": [
    "\n"
   ]
  },
  {
   "cell_type": "code",
   "execution_count": null,
   "metadata": {},
   "outputs": [],
   "source": []
  }
 ],
 "metadata": {
  "kernelspec": {
   "display_name": "pytorch_implement",
   "language": "python",
   "name": "python3"
  },
  "language_info": {
   "codemirror_mode": {
    "name": "ipython",
    "version": 3
   },
   "file_extension": ".py",
   "mimetype": "text/x-python",
   "name": "python",
   "nbconvert_exporter": "python",
   "pygments_lexer": "ipython3",
   "version": "3.9.16"
  },
  "orig_nbformat": 4,
  "vscode": {
   "interpreter": {
    "hash": "bfd542abe13270e3ecc3256da590b35c1325bea8e67bec94e5f1bf29ec2fd914"
   }
  }
 },
 "nbformat": 4,
 "nbformat_minor": 2
}
