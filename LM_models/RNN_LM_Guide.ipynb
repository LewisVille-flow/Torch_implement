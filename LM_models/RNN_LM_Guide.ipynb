{
 "cells": [
  {
   "attachments": {},
   "cell_type": "markdown",
   "metadata": {},
   "source": [
    "# Language Model 만들기\n",
    "### 더 알아볼 것"
   ]
  },
  {
   "cell_type": "code",
   "execution_count": null,
   "metadata": {},
   "outputs": [],
   "source": [
    "\"\"\"\n",
    "\n",
    "RNN, LSTM, GRU를 통한 LM 만들기\n",
    "\n",
    "task: 다음 단어 예측\n",
    "활용: 다음 단어 generate\n",
    "\n",
    "\n",
    "\"\"\""
   ]
  },
  {
   "attachments": {},
   "cell_type": "markdown",
   "metadata": {},
   "source": [
    "## 이외에 추가로 구현해볼 것 - 논문에서 본 것\n",
    "\n",
    "- Vision  \n",
    "ViT\n",
    "\n",
    "- NLP  \n",
    "Byte-pair encoding , subword tokenization  \n",
    "seq2seq  \n",
    "seq2seq with attention  \n",
    "attention block, multihead attention  \n",
    "\n",
    "\n",
    "- others  \n",
    "LM with classification/generation/translation ...\n"
   ]
  },
  {
   "cell_type": "code",
   "execution_count": null,
   "metadata": {},
   "outputs": [],
   "source": []
  }
 ],
 "metadata": {
  "language_info": {
   "name": "python"
  },
  "orig_nbformat": 4
 },
 "nbformat": 4,
 "nbformat_minor": 2
}
